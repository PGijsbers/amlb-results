{
 "cells": [
  {
   "cell_type": "markdown",
   "id": "12e0e39b-d75b-4abb-90e5-00c6a0d9d1e8",
   "metadata": {},
   "source": [
    "# Data Cleaning Notebook\n",
    "This notebook combines a number of files into a clean dataset that is used for visualization, these files are:\n",
    " - `data/amlb_2023Q2.csv`: the raw results of the benchmark that took place June 2023, used for all the automl framework results.\n",
    " - `data/amlb_2021Q3.csv`: the _cleaned_ results of the benchmark that took place in the fall of 2021, used for the `constantpredictor` and `tunedrandomforest` baselines as well as `mlr3automl`."
   ]
  },
  {
   "cell_type": "markdown",
   "id": "f90e7b44-6fc7-41a4-a3be-e34c3c860c0a",
   "metadata": {},
   "source": [
    "Note that a few (< 20) (framework, task, fold)-combinations still need to be run due to technical difficulties.\n",
    "The original file contains `NaiveAutoML` data, but after encountering severe issues and correspondence with the authors, we decided to exclude these from the analysis, so we exclude them from the file."
   ]
  },
  {
   "cell_type": "markdown",
   "id": "4c5ffda3-b478-401c-9373-cd52cdaf659d",
   "metadata": {},
   "source": [
    "The output file will have results for each (framework, task, fold)-combination as per the table below. \n",
    "\n",
    "Legend:\n",
    " - ❌ no results\n",
    " - ☑️ results from 2021Q3\n",
    " - ✅ results from 2023Q2"
   ]
  },
  {
   "cell_type": "markdown",
   "id": "81adcea8-bc82-4f59-98cd-c1ee5d24bb83",
   "metadata": {},
   "source": [
    "| [framework](https://github.com/openml/automlbenchmark/blob/12046acc4824dd48414c0543b518cd628490a12d/resources/frameworks_2023Q2.yaml) | [classification, 1h](https://www.openml.org/s/271) | [classification, 4h](https://www.openml.org/s/271) | [regression, 1h](https://www.openml.org/s/269) | [regression, 4h](https://www.openml.org/s/269) |\n",
    "|--|:--:|:--:|:--:|:--:|\n",
    "| AutoGluon (benchmark) | ✅ | ✅ | ✅ | ✅ | \n",
    "| AutoGluon (high quality)| ✅ | ✅ | ✅ | ✅ | \n",
    "| AutoGluon (high quality, infer limit) | ✅ | ❌ | ✅ | ✅ | \n",
    "| autosklearn | ✅ | ✅ | ✅ | ✅ | \n",
    "| autosklearn 2 | ✅ | ☑️ | ❌ | ❌ | \n",
    "| flaml | ✅ | ✅ | ✅ | ✅ | \n",
    "| GAMA (benchmark) | ✅ | ☑️ | ✅ | ☑️ | \n",
    "| H2O AutoML | ✅ | ✅ | ✅ | ✅ | \n",
    "| Light AutoML | ✅ | ✅ | ✅ | ✅ | \n",
    "| MLJar Supervised (benchmark) | ✅ | ☑️ | ✅ | ✅ | \n",
    "| MLJar Supervised (perform) | ✅ | ❌ | ✅ | ✅ | \n",
    "| mlr3automl | ☑️ | ☑️ | ☑️ | ☑️ | \n",
    "| Naive AutoML | ✅ | ❌ | ✅ | ❌ | \n",
    "| TPOT | ✅ | ☑️ | ✅ | ☑️ | \n",
    "| RandomForest | ✅ | ✅ | ✅ | ✅ | \n",
    "| TunedRandomForest | ☑️ | ☑️ | ☑️ | ☑️ |"
   ]
  },
  {
   "cell_type": "code",
   "execution_count": 1,
   "id": "d791fd60-4970-4244-bf96-384beba02148",
   "metadata": {},
   "outputs": [],
   "source": [
    "import itertools\n",
    "from pathlib import Path\n",
    "import pandas as pd\n",
    "\n",
    "PROJECT_ROOT = Path(\".\").absolute().parent\n",
    "DATA_DIRECTORY = PROJECT_ROOT / \"data\""
   ]
  },
  {
   "cell_type": "code",
   "execution_count": 2,
   "id": "ce4abd22-d0d2-4574-b8a3-30ececd00241",
   "metadata": {},
   "outputs": [],
   "source": [
    "pd.concat(\n",
    "    pd.read_csv(f\"http://openml-test.win.tue.nl/amlb/{ttype}_cleaned.csv\")    \n",
    "    for ttype in [\"classification\", \"regression\"]\n",
    ").to_csv(DATA_DIRECTORY / \"amlb_2021Q3.csv\", index=False)"
   ]
  },
  {
   "cell_type": "markdown",
   "id": "0febdeed-b730-4247-86ac-19fdf51b00ce",
   "metadata": {},
   "source": [
    "We load all the data and add meta-data about the source for easier filtering later:"
   ]
  },
  {
   "cell_type": "code",
   "execution_count": 3,
   "id": "0707a742-5d64-434d-b636-451f743d5bc0",
   "metadata": {},
   "outputs": [],
   "source": [
    "amlb_2021Q3 = pd.read_csv(DATA_DIRECTORY / \"amlb_2021Q3.csv\")\n",
    "amlb_2021Q3[\"source\"] = \"2021Q3\"\n",
    "amlb_2023Q2 = pd.read_csv(DATA_DIRECTORY / \"amlb_2023Q2.csv\")\n",
    "amlb_2023Q2[\"source\"] = \"2023Q2\""
   ]
  },
  {
   "cell_type": "markdown",
   "id": "db228226-1d04-4bcd-9340-98635f4729bb",
   "metadata": {},
   "source": [
    "## Cleaning Duplicates"
   ]
  },
  {
   "cell_type": "markdown",
   "id": "8b991a75-352e-44cc-9333-515125750566",
   "metadata": {},
   "source": [
    "`autogluon_benchmark` was evaluated twice on `fold 0` of the `regression` benchmark by accident. We will only keep the second evaluation. However, there is one experiment in the second evaluation which was aborted during inference time measurements (`Santander_transaction_value`). Normally, we wound run this experiment again without inference time measurements (as above), but since we already had the accidental second batch of results, we can just make sure that is used instead."
   ]
  },
  {
   "cell_type": "code",
   "execution_count": 4,
   "id": "1a702828-a7be-4eba-8680-50adcd8605d3",
   "metadata": {},
   "outputs": [
    {
     "data": {
      "text/html": [
       "<div>\n",
       "<style scoped>\n",
       "    .dataframe tbody tr th:only-of-type {\n",
       "        vertical-align: middle;\n",
       "    }\n",
       "\n",
       "    .dataframe tbody tr th {\n",
       "        vertical-align: top;\n",
       "    }\n",
       "\n",
       "    .dataframe thead th {\n",
       "        text-align: right;\n",
       "    }\n",
       "</style>\n",
       "<table border=\"1\" class=\"dataframe\">\n",
       "  <thead>\n",
       "    <tr style=\"text-align: right;\">\n",
       "      <th></th>\n",
       "      <th>id</th>\n",
       "      <th>task</th>\n",
       "      <th>framework</th>\n",
       "      <th>constraint</th>\n",
       "      <th>fold</th>\n",
       "      <th>type</th>\n",
       "      <th>result</th>\n",
       "      <th>metric</th>\n",
       "      <th>mode</th>\n",
       "      <th>version</th>\n",
       "      <th>...</th>\n",
       "      <th>r2</th>\n",
       "      <th>rmse</th>\n",
       "      <th>infer_batch_size_df_1</th>\n",
       "      <th>infer_batch_size_file_1</th>\n",
       "      <th>infer_batch_size_file_10</th>\n",
       "      <th>infer_batch_size_file_100</th>\n",
       "      <th>infer_batch_size_file_1000</th>\n",
       "      <th>infer_batch_size_file_10000</th>\n",
       "      <th>models_ensemble_count</th>\n",
       "      <th>source</th>\n",
       "    </tr>\n",
       "  </thead>\n",
       "  <tbody>\n",
       "    <tr>\n",
       "      <th>815</th>\n",
       "      <td>openml.org/t/233214</td>\n",
       "      <td>Santander_transaction_value</td>\n",
       "      <td>AutoGluon_benchmark</td>\n",
       "      <td>1h8c_gp3</td>\n",
       "      <td>0</td>\n",
       "      <td>regression</td>\n",
       "      <td>-7233710.0</td>\n",
       "      <td>neg_rmse</td>\n",
       "      <td>aws.docker</td>\n",
       "      <td>0.8.0</td>\n",
       "      <td>...</td>\n",
       "      <td>0.229936</td>\n",
       "      <td>7233710.0</td>\n",
       "      <td>20.3407</td>\n",
       "      <td>20.5419</td>\n",
       "      <td>21.4607</td>\n",
       "      <td>22.6191</td>\n",
       "      <td>32.9448</td>\n",
       "      <td>NaN</td>\n",
       "      <td>18.0</td>\n",
       "      <td>2023Q2</td>\n",
       "    </tr>\n",
       "    <tr>\n",
       "      <th>869</th>\n",
       "      <td>openml.org/t/233214</td>\n",
       "      <td>Santander_transaction_value</td>\n",
       "      <td>AutoGluon_benchmark</td>\n",
       "      <td>1h8c_gp3</td>\n",
       "      <td>0</td>\n",
       "      <td>regression</td>\n",
       "      <td>NaN</td>\n",
       "      <td>neg_rmse</td>\n",
       "      <td>aws.docker</td>\n",
       "      <td>0.8.0</td>\n",
       "      <td>...</td>\n",
       "      <td>NaN</td>\n",
       "      <td>NaN</td>\n",
       "      <td>NaN</td>\n",
       "      <td>NaN</td>\n",
       "      <td>NaN</td>\n",
       "      <td>NaN</td>\n",
       "      <td>NaN</td>\n",
       "      <td>NaN</td>\n",
       "      <td>NaN</td>\n",
       "      <td>2023Q2</td>\n",
       "    </tr>\n",
       "  </tbody>\n",
       "</table>\n",
       "<p>2 rows × 34 columns</p>\n",
       "</div>"
      ],
      "text/plain": [
       "                      id                         task            framework  \\\n",
       "815  openml.org/t/233214  Santander_transaction_value  AutoGluon_benchmark   \n",
       "869  openml.org/t/233214  Santander_transaction_value  AutoGluon_benchmark   \n",
       "\n",
       "    constraint  fold        type     result    metric        mode version  \\\n",
       "815   1h8c_gp3     0  regression -7233710.0  neg_rmse  aws.docker   0.8.0   \n",
       "869   1h8c_gp3     0  regression        NaN  neg_rmse  aws.docker   0.8.0   \n",
       "\n",
       "     ...        r2       rmse infer_batch_size_df_1  infer_batch_size_file_1  \\\n",
       "815  ...  0.229936  7233710.0               20.3407                  20.5419   \n",
       "869  ...       NaN        NaN                   NaN                      NaN   \n",
       "\n",
       "     infer_batch_size_file_10  infer_batch_size_file_100  \\\n",
       "815                   21.4607                    22.6191   \n",
       "869                       NaN                        NaN   \n",
       "\n",
       "     infer_batch_size_file_1000  infer_batch_size_file_10000  \\\n",
       "815                     32.9448                          NaN   \n",
       "869                         NaN                          NaN   \n",
       "\n",
       "    models_ensemble_count  source  \n",
       "815                  18.0  2023Q2  \n",
       "869                   NaN  2023Q2  \n",
       "\n",
       "[2 rows x 34 columns]"
      ]
     },
     "execution_count": 4,
     "metadata": {},
     "output_type": "execute_result"
    }
   ],
   "source": [
    "is_autogluon_benchmark = (amlb_2023Q2[\"framework\"] == \"AutoGluon_benchmark\")\n",
    "fold_0_Santander = (amlb_2023Q2[\"task\"] == \"Santander_transaction_value\") & (amlb_2023Q2[\"fold\"] == 0)\n",
    "one_hour_constraint = (amlb_2023Q2[\"constraint\"] == \"1h8c_gp3\")\n",
    "amlb_2023Q2[is_autogluon_benchmark & fold_0_Santander & one_hour_constraint]"
   ]
  },
  {
   "cell_type": "code",
   "execution_count": 5,
   "id": "05276a6e-ea4e-42ef-83c8-85a873034a47",
   "metadata": {},
   "outputs": [],
   "source": [
    "amlb_2023Q2 = amlb_2023Q2.drop(869)"
   ]
  },
  {
   "cell_type": "markdown",
   "id": "5a29c524-8dac-4aff-9c57-9fd7d6f7763e",
   "metadata": {},
   "source": [
    "There are several normal reasons why one might find multiple entries for the same (framework, task, fold, constraint)-combination, however normally only one has a result.\n",
    "This is typically for fails through no fault of the automl framework. This can include, but is not limited to:\n",
    " - Bugs in the AutoML benchmark which affected the specific (framework, task)-combination.\n",
    " - A job was stopped because the inference time measurements took too long, in which case it was tried again without inference time measurements.\n",
    " - Random issues, such as errors when downloading the dataset from `openml`.\n",
    "\n",
    "There are also other cases were an entry was missing completely, for example because docker denied a `docker pull` during setup, in which case a retry was also queued. Now we can proceed and make sure we use the latest experiment for each:"
   ]
  },
  {
   "cell_type": "code",
   "execution_count": 6,
   "id": "9468d973-002d-4039-a23f-a2697550319b",
   "metadata": {},
   "outputs": [],
   "source": [
    "amlb_2023Q2 = amlb_2023Q2.sort_values(\n",
    "    by=\"result\", na_position=\"first\"\n",
    ").drop_duplicates(\n",
    "    [\"task\", \"framework\", \"fold\", \"constraint\"], \n",
    "    keep=\"last\"\n",
    ")"
   ]
  },
  {
   "cell_type": "code",
   "execution_count": 7,
   "id": "99300581-3855-4de4-bc1c-7cdda0a05815",
   "metadata": {},
   "outputs": [],
   "source": [
    "assert amlb_2023Q2[amlb_2023Q2.duplicated([\"framework\", \"task\", \"fold\", \"constraint\"])].empty"
   ]
  },
  {
   "cell_type": "markdown",
   "id": "4e974221-3656-4b18-b718-432f91a548dd",
   "metadata": {},
   "source": [
    "# Show Missing Results"
   ]
  },
  {
   "cell_type": "markdown",
   "id": "cfc81e4f-5c7d-44eb-9e8d-15b9835602db",
   "metadata": {},
   "source": [
    "There are some (framework, fold, task, constraint)-combinations which do not have any entries:"
   ]
  },
  {
   "cell_type": "code",
   "execution_count": 8,
   "id": "57c7d904-bbe8-4836-ad97-a3c20ffb7d72",
   "metadata": {},
   "outputs": [
    {
     "data": {
      "text/plain": [
       "type        constraint  framework                \n",
       "binary      1h8c_gp3    AutoGluon_benchmark          410\n",
       "                        AutoGluon_hq                 410\n",
       "                        AutoGluon_hq_il001           410\n",
       "                        GAMA_benchmark               410\n",
       "                        H2OAutoML                    410\n",
       "                        NaiveAutoML                  410\n",
       "                        RandomForest                 410\n",
       "                        TPOT                         410\n",
       "                        autosklearn                  410\n",
       "                        autosklearn2                 410\n",
       "                        flaml                        410\n",
       "                        lightautoml                  410\n",
       "                        mljarsupervised_benchmark    410\n",
       "                        mljarsupervised_perform      410\n",
       "            4h8c_gp3    AutoGluon_benchmark          410\n",
       "                        AutoGluon_hq                 410\n",
       "                        H2OAutoML                    410\n",
       "                        RandomForest                  30\n",
       "                        autosklearn                  410\n",
       "                        flaml                        410\n",
       "                        lightautoml                  410\n",
       "multiclass  1h8c_gp3    AutoGluon_benchmark          300\n",
       "                        AutoGluon_hq                 300\n",
       "                        AutoGluon_hq_il001           300\n",
       "                        GAMA_benchmark               300\n",
       "                        H2OAutoML                    300\n",
       "                        NaiveAutoML                  300\n",
       "                        RandomForest                 300\n",
       "                        TPOT                         300\n",
       "                        autosklearn                  300\n",
       "                        autosklearn2                 300\n",
       "                        flaml                        300\n",
       "                        lightautoml                  300\n",
       "                        mljarsupervised_benchmark    300\n",
       "                        mljarsupervised_perform      300\n",
       "            4h8c_gp3    AutoGluon_benchmark          300\n",
       "                        AutoGluon_hq                 300\n",
       "                        H2OAutoML                    300\n",
       "                        RandomForest                  20\n",
       "                        autosklearn                  300\n",
       "                        flaml                        300\n",
       "                        lightautoml                  300\n",
       "regression  1h8c_gp3    AutoGluon_benchmark          330\n",
       "                        AutoGluon_hq                 330\n",
       "                        AutoGluon_hq_il001           330\n",
       "                        GAMA_benchmark               330\n",
       "                        H2OAutoML                    330\n",
       "                        NaiveAutoML                  330\n",
       "                        RandomForest                 330\n",
       "                        TPOT                         330\n",
       "                        autosklearn                  330\n",
       "                        flaml                        330\n",
       "                        lightautoml                  330\n",
       "                        mljarsupervised_benchmark    330\n",
       "                        mljarsupervised_perform      330\n",
       "            4h8c_gp3    AutoGluon_benchmark          330\n",
       "                        AutoGluon_hq                 330\n",
       "                        AutoGluon_hq_il001           330\n",
       "                        H2OAutoML                    330\n",
       "                        RandomForest                  30\n",
       "                        autosklearn                  329\n",
       "                        flaml                        330\n",
       "                        lightautoml                  330\n",
       "                        mljarsupervised_benchmark    330\n",
       "dtype: int64"
      ]
     },
     "metadata": {},
     "output_type": "display_data"
    }
   ],
   "source": [
    "from IPython.display import display\n",
    "\n",
    "with pd.option_context(\"display.max_rows\", 64):\n",
    "    display(amlb_2023Q2.groupby(by=[\"type\",\"constraint\",\"framework\"]).size())"
   ]
  },
  {
   "cell_type": "markdown",
   "id": "7c3f2143-f2ac-47b6-a537-cd60df1106f7",
   "metadata": {},
   "source": [
    "# Transfer Random Forest Results\n",
    "The `RandomForest` baseline trains at most 2000 trees. This means that results for `1h8c_gp3` and `4h8c_gp3` should be identical as long as 2000 trees were trained. For that reason, we only ran `RandomForest` on `4h8c_gp3` whenever the baseline did not train 2000 trees in the `1h8c_gp3` constraint. We transfer all the `1h8c_gp3` results to `4h8c_gp3` to make for a complete set of results for the `4h8c_gp3` results:"
   ]
  },
  {
   "cell_type": "code",
   "execution_count": 9,
   "id": "cb890198-7183-4dd4-812f-157892aae294",
   "metadata": {},
   "outputs": [],
   "source": [
    "fully_trained_randomforest = (amlb_2023Q2[\"framework\"] == \"RandomForest\") & (amlb_2023Q2[\"models_count\"] == 2000)\n",
    "randomforest_1h8c_gp3 = amlb_2023Q2[fully_trained_randomforest & (amlb_2023Q2[\"constraint\"] == \"1h8c_gp3\")].copy()\n",
    "randomforest_1h8c_gp3[\"constraint\"] = \"4h8c_gp3\"\n",
    "amlb_2023Q2 = pd.concat([amlb_2023Q2, randomforest_1h8c_gp3])"
   ]
  },
  {
   "cell_type": "code",
   "execution_count": 10,
   "id": "36613025-3254-4953-864a-39cebdbff916",
   "metadata": {},
   "outputs": [],
   "source": [
    "assert amlb_2023Q2[amlb_2023Q2.duplicated([\"framework\", \"task\", \"fold\", \"constraint\"])].empty"
   ]
  },
  {
   "cell_type": "markdown",
   "id": "97570fc4-57e1-46e0-a799-74d8f06a8b84",
   "metadata": {},
   "source": [
    "# Transfer Old Results"
   ]
  },
  {
   "cell_type": "markdown",
   "id": "5bbbd8ab-aaed-4bdc-bae2-81cb25298a28",
   "metadata": {},
   "source": [
    "We couldn't rerun all experiments. We tried to prioritize rerunning frameworks that had bigger changes from their previously benchmarked version. For completeness, we add old results for which we do not have a newer version. These are easily filtered out by the `\"source\"` column (either `\"amlb_2023Q2\"` or `\"amlb_2021Q3\"`). Here are the version differences from frameworks that had their results transferred:"
   ]
  },
  {
   "cell_type": "markdown",
   "id": "637ced4f-311a-4445-928a-47c07535f500",
   "metadata": {},
   "source": [
    "| framework | 2021Q3 | 2023Q2 | note |\n",
    "| --------- | ------:| ------: | -- |\n",
    "| autosklearn 2 | 0.14.0 | 0.15.0 | |\n",
    "| TPOT | 0.11.7 | 0.12.0 | |\n",
    "| GAMA | 21.0.1 | 23.0.0 | Uses [CalVer](http://calver.org) variant, minor changes only |\n",
    "| MLJar Supervised | 0.11.0 | 0.11.5 | |\n",
    "| Tuned Random Forest | 0.24.2 | 1.2.2 | |\n",
    "| constant predictor | 0.24.2 | 1.2.2 | Results independent of version |"
   ]
  },
  {
   "cell_type": "code",
   "execution_count": 11,
   "id": "1b025024-c159-40d9-b0fd-803f1751dfae",
   "metadata": {},
   "outputs": [],
   "source": [
    "autosklearn2 = (amlb_2021Q3[\"framework\" ] == \"autosklearn2\") & (amlb_2021Q3[\"constraint\"] == \"4h8c_gp3\")\n",
    "tpot = (amlb_2021Q3[\"framework\" ] == \"TPOT\") & (amlb_2021Q3[\"constraint\"] == \"4h8c_gp3\")\n",
    "gama = (amlb_2021Q3[\"framework\" ] == \"GAMA_benchmark\") & (amlb_2021Q3[\"constraint\"] == \"4h8c_gp3\")\n",
    "mljar = (amlb_2021Q3[\"framework\" ] == \"mljarsupervised_benchmark\") & (amlb_2021Q3[\"constraint\"] == \"4h8c_gp3\") & (amlb_2021Q3[\"type\"].isin([\"binary\", \"multiclass\"]))\n",
    "constant_predictor = (amlb_2021Q3[\"framework\" ] == \"constantpredictor\")\n",
    "tuned_random_forest = (amlb_2021Q3[\"framework\" ] == \"TunedRandomForest\")\n",
    "to_transfer = amlb_2021Q3[autosklearn2 | tpot | gama | mljar | constant_predictor | tuned_random_forest]"
   ]
  },
  {
   "cell_type": "code",
   "execution_count": 12,
   "id": "09ed8a56-3393-4008-9e99-cf9c0f26c161",
   "metadata": {},
   "outputs": [],
   "source": [
    "amlb_2023Q2_padded = pd.concat([to_transfer, amlb_2023Q2])"
   ]
  },
  {
   "cell_type": "code",
   "execution_count": 13,
   "id": "a6b8db57-a6ff-4b20-a038-79dd18e1c0fd",
   "metadata": {},
   "outputs": [
    {
     "data": {
      "text/plain": [
       "type        constraint  framework                \n",
       "binary      1h8c_gp3    AutoGluon_benchmark          410\n",
       "                        AutoGluon_hq                 410\n",
       "                        AutoGluon_hq_il001           410\n",
       "                        GAMA_benchmark               410\n",
       "                        H2OAutoML                    410\n",
       "                        NaiveAutoML                  410\n",
       "                        RandomForest                 410\n",
       "                        TPOT                         410\n",
       "                        TunedRandomForest            410\n",
       "                        autosklearn                  410\n",
       "                        autosklearn2                 410\n",
       "                        constantpredictor            410\n",
       "                        flaml                        410\n",
       "                        lightautoml                  410\n",
       "                        mljarsupervised_benchmark    410\n",
       "                        mljarsupervised_perform      410\n",
       "            4h8c_gp3    AutoGluon_benchmark          410\n",
       "                        AutoGluon_hq                 410\n",
       "                        GAMA_benchmark               410\n",
       "                        H2OAutoML                    410\n",
       "                        RandomForest                 410\n",
       "                        TPOT                         410\n",
       "                        TunedRandomForest            410\n",
       "                        autosklearn                  410\n",
       "                        autosklearn2                 410\n",
       "                        constantpredictor            410\n",
       "                        flaml                        410\n",
       "                        lightautoml                  410\n",
       "                        mljarsupervised_benchmark    410\n",
       "multiclass  1h8c_gp3    AutoGluon_benchmark          300\n",
       "                        AutoGluon_hq                 300\n",
       "                        AutoGluon_hq_il001           300\n",
       "                        GAMA_benchmark               300\n",
       "                        H2OAutoML                    300\n",
       "                        NaiveAutoML                  300\n",
       "                        RandomForest                 300\n",
       "                        TPOT                         300\n",
       "                        TunedRandomForest            300\n",
       "                        autosklearn                  300\n",
       "                        autosklearn2                 300\n",
       "                        constantpredictor            300\n",
       "                        flaml                        300\n",
       "                        lightautoml                  300\n",
       "                        mljarsupervised_benchmark    300\n",
       "                        mljarsupervised_perform      300\n",
       "            4h8c_gp3    AutoGluon_benchmark          300\n",
       "                        AutoGluon_hq                 300\n",
       "                        GAMA_benchmark               300\n",
       "                        H2OAutoML                    300\n",
       "                        RandomForest                 300\n",
       "                        TPOT                         300\n",
       "                        TunedRandomForest            300\n",
       "                        autosklearn                  300\n",
       "                        autosklearn2                 300\n",
       "                        constantpredictor            300\n",
       "                        flaml                        300\n",
       "                        lightautoml                  300\n",
       "                        mljarsupervised_benchmark    300\n",
       "regression  1h8c_gp3    AutoGluon_benchmark          330\n",
       "                        AutoGluon_hq                 330\n",
       "                        AutoGluon_hq_il001           330\n",
       "                        GAMA_benchmark               330\n",
       "                        H2OAutoML                    330\n",
       "                        NaiveAutoML                  330\n",
       "                        RandomForest                 330\n",
       "                        TPOT                         330\n",
       "                        TunedRandomForest            330\n",
       "                        autosklearn                  330\n",
       "                        constantpredictor            330\n",
       "                        flaml                        330\n",
       "                        lightautoml                  330\n",
       "                        mljarsupervised_benchmark    330\n",
       "                        mljarsupervised_perform      330\n",
       "            4h8c_gp3    AutoGluon_benchmark          330\n",
       "                        AutoGluon_hq                 330\n",
       "                        AutoGluon_hq_il001           330\n",
       "                        GAMA_benchmark               330\n",
       "                        H2OAutoML                    330\n",
       "                        RandomForest                 330\n",
       "                        TPOT                         330\n",
       "                        TunedRandomForest            330\n",
       "                        autosklearn                  329\n",
       "                        constantpredictor            330\n",
       "                        flaml                        330\n",
       "                        lightautoml                  330\n",
       "                        mljarsupervised_benchmark    330\n",
       "dtype: int64"
      ]
     },
     "metadata": {},
     "output_type": "display_data"
    }
   ],
   "source": [
    "from IPython.display import display\n",
    "\n",
    "with pd.option_context(\"display.max_rows\", 90):\n",
    "    display(amlb_2023Q2_padded.groupby(by=[\"type\",\"constraint\",\"framework\"]).size())"
   ]
  },
  {
   "cell_type": "code",
   "execution_count": 14,
   "id": "b8827639-230f-4602-aafd-7e82b1670871",
   "metadata": {},
   "outputs": [],
   "source": [
    "amlb_2023Q2_padded.to_csv(DATA_DIRECTORY / \"amlb_all.csv\", index=False)"
   ]
  },
  {
   "cell_type": "code",
   "execution_count": null,
   "id": "74e05dd1-8748-47c9-b026-b9631bebba69",
   "metadata": {},
   "outputs": [],
   "source": []
  }
 ],
 "metadata": {
  "kernelspec": {
   "display_name": "Python 3 (ipykernel)",
   "language": "python",
   "name": "python3"
  },
  "language_info": {
   "codemirror_mode": {
    "name": "ipython",
    "version": 3
   },
   "file_extension": ".py",
   "mimetype": "text/x-python",
   "name": "python",
   "nbconvert_exporter": "python",
   "pygments_lexer": "ipython3",
   "version": "3.9.16"
  }
 },
 "nbformat": 4,
 "nbformat_minor": 5
}
