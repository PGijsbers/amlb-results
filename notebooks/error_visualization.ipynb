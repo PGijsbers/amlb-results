{
 "cells": [
  {
   "cell_type": "markdown",
   "id": "a83a681d-4eb1-42c5-bd6d-d152a1f018cd",
   "metadata": {},
   "source": [
    "# Error Visualization\n",
    "This notebook categorizes the errors encountered when running the AutoML benchmark creates visualizations that show when, where, and why errors happen.\n"
   ]
  },
  {
   "cell_type": "markdown",
   "id": "565330fe-f7ce-402b-860e-f981d97c829b",
   "metadata": {},
   "source": [
    "### Loading Data"
   ]
  },
  {
   "cell_type": "code",
   "execution_count": 400,
   "id": "b3235f4e-4bac-41a4-8397-bb1aa127d7eb",
   "metadata": {},
   "outputs": [],
   "source": [
    "import itertools\n",
    "from pathlib import Path\n",
    "import re\n",
    "\n",
    "import matplotlib.pyplot as plt\n",
    "import pandas as pd\n",
    "import seaborn as sns\n",
    "\n",
    "from data_processing import get_print_friendly_name"
   ]
  },
  {
   "cell_type": "code",
   "execution_count": 3,
   "id": "ba1efa44-97f9-4a99-91f6-1b5535caf133",
   "metadata": {},
   "outputs": [],
   "source": [
    "PROJECT_ROOT = Path(\".\").absolute().parent\n",
    "DATA_DIRECTORY = PROJECT_ROOT / \"data\"\n",
    "FIGURE_DIRECTORY = PROJECT_ROOT / \"figures\" / \"CD\"\n",
    "FIGURE_DIRECTORY.mkdir(parents=True, exist_ok=True)"
   ]
  },
  {
   "cell_type": "code",
   "execution_count": 377,
   "id": "d1c3b50d-56ee-4396-bf42-b2a7fefe9966",
   "metadata": {},
   "outputs": [],
   "source": [
    "results = pd.read_csv(DATA_DIRECTORY / \"amlb_all.csv\", dtype={\"info\": str})\n",
    "results[\"framework\"] = results[\"framework\"].apply(get_print_friendly_name)\n",
    "results = results[results[\"framework\"] != \"NaiveAutoML\"]"
   ]
  },
  {
   "cell_type": "code",
   "execution_count": null,
   "id": "a6db3876-a9ff-4292-b2e6-166681dd6aa9",
   "metadata": {},
   "outputs": [],
   "source": []
  },
  {
   "cell_type": "markdown",
   "id": "c7f5661c-4680-466f-9646-ece5a607c646",
   "metadata": {},
   "source": [
    "## Categorizing Errors"
   ]
  },
  {
   "cell_type": "code",
   "execution_count": 378,
   "id": "62262942-4757-473a-9b36-453fe0145e2d",
   "metadata": {},
   "outputs": [],
   "source": [
    "with_errors = results[~results[\"info\"].isna()][[\"framework\", \"task\", \"fold\", \"constraint\", \"info\"]]"
   ]
  },
  {
   "cell_type": "code",
   "execution_count": 379,
   "id": "302af32a-b5d3-4069-84a3-91137ba867ef",
   "metadata": {},
   "outputs": [],
   "source": [
    "TIMEOUT_PATTERN = re.compile(\"Interrupting thread MainThread \\[ident=\\d+\\] after \\d+s timeout.\")\n",
    "def is_timeout(message: str) -> bool:\n",
    "    if re.search(TIMEOUT_PATTERN, message):\n",
    "        return True\n",
    "    return False"
   ]
  },
  {
   "cell_type": "code",
   "execution_count": 390,
   "id": "f1f5f300-798f-483c-86bb-301b0c53186b",
   "metadata": {},
   "outputs": [],
   "source": [
    "def is_memory(message: str) -> bool:\n",
    "    if \"Cannot allocate memory\" in message:\n",
    "        return True\n",
    "    if \"exit status 134\" in message:\n",
    "        return True\n",
    "    if \"exit status 137\" in message:\n",
    "        return True\n",
    "    if \"exit status 139\" in message:\n",
    "        return True\n",
    "    if \"exit status 143\" in message:\n",
    "        return True\n",
    "    if \"std::bad_alloc\" in message:\n",
    "        return True\n",
    "    if \"Dummy prediction failed with run state StatusType.MEMOUT\" in message:\n",
    "        return True  # autosklearn\n",
    "    if \"This could be caused by a segmentation fault while calling the function or by an excessive memory usage\" in message:\n",
    "        return True  # lightautoml\n",
    "    if \"OutOfMemoryError: GC overhead limit exceeded\" in message:\n",
    "        return True  # H2O\n",
    "    return False"
   ]
  },
  {
   "cell_type": "code",
   "execution_count": 391,
   "id": "298e5c3e-c938-4d60-b309-4ce1c4f23cc7",
   "metadata": {},
   "outputs": [],
   "source": [
    "def is_data(message: str) -> bool:\n",
    "    if \"NoResultError: y_true and y_pred contain different number of classes\" in message:\n",
    "        return True\n",
    "    return False"
   ]
  },
  {
   "cell_type": "code",
   "execution_count": 392,
   "id": "e298470e-6510-498b-8ccb-e0b16ccc3b96",
   "metadata": {},
   "outputs": [],
   "source": [
    "def is_implementation(message: str) -> bool:\n",
    "    if \"A pipeline has not yet been optimized. Please call fit() first.\" in message:\n",
    "        return True  # TPOT\n",
    "    if message == \"NoResultError: probability estimates are not available for loss='hinge'\":\n",
    "        return True  # TPOT\n",
    "    if  \"object has no attribute 'predict_proba'\" in message:\n",
    "        return True  # TPOT\n",
    "    if \"'NoneType' object is not iterable\" in message:\n",
    "        return True  # GAMA\n",
    "    if \"The least populated class in y has only 1 member, which is too few.\" in message:\n",
    "        return True  # GAMA\n",
    "    if \"Pipeline finished with 0 models for some reason.\" in message:\n",
    "        return True  # Light AutoML\n",
    "    if \"No models produced. \\nPlease check your data or submit\" in message:\n",
    "        return True  # MLJar\n",
    "    if \"The feature names should match those that were passed during fit\" in message:\n",
    "        return True  # MLJar\n",
    "    if re.search(\"At position \\d+ should be feature with name\", message):\n",
    "        return True  # MLJar\n",
    "    if \"Object of type float32 is not JSON serializable\" in message:\n",
    "        return True  # MLJar\n",
    "    if \"Ensemble_prediction_0_for_\" in message:\n",
    "        return True  # MLJar\n",
    "    if \"NeuralNetFastAI_BAG_L1'\" in message:\n",
    "        return True  # AutoGluon\n",
    "    if \"No learner was chosen in the initial phase.\" in message:\n",
    "        return True  # NaiveAutoML\n",
    "    return False"
   ]
  },
  {
   "cell_type": "code",
   "execution_count": 393,
   "id": "649ae126-4447-45a8-b0ae-3eafea15d8c7",
   "metadata": {},
   "outputs": [],
   "source": [
    "def needs_investigation(message: str) -> bool:\n",
    "    if message == \"NoResultError: \":\n",
    "        return True  # GAMA\n",
    "    if \"Ran out of input\" in message:\n",
    "        return True  # GAMA\n",
    "    if \"Python int too large to convert to C ssize_t\" in message:\n",
    "        return True  # GAMA\n",
    "    if \"invalid load key, \" in message:\n",
    "        return True  # GAMA\n",
    "    if \"Unsupported metric `auc` for regression problems\" in message:\n",
    "        return True  # FLAML\n",
    "    if \"'NoneType' object has no attribute 'name'\" in message:\n",
    "        return True  # AutoGluon\n",
    "    return False"
   ]
  },
  {
   "cell_type": "code",
   "execution_count": 394,
   "id": "41ba3e15-d058-4938-9a36-8ac6500f09cb",
   "metadata": {},
   "outputs": [],
   "source": [
    "def needs_rerun(message: str) -> bool:\n",
    "    if \"NoResultError: 'e'\" in message:\n",
    "        return True  # Autosklearn artifact save bug\n",
    "    if \"Auto-sklearn does not yet support sparse pandas Series\" in message:\n",
    "        return True  # Autosklearn\n",
    "    if re.search(\"Exception: File: /input/org/openml/www/datasets/\\d+/dataset_\\d+.pq\", message):\n",
    "        return True\n",
    "    return False"
   ]
  },
  {
   "cell_type": "code",
   "execution_count": 395,
   "id": "6c56f3bb-d47b-4c39-a659-123a021c690c",
   "metadata": {},
   "outputs": [],
   "source": [
    "checks = dict(\n",
    "    timeout=is_timeout,\n",
    "    memory=is_memory,\n",
    "    data=is_data,\n",
    "    implementation=is_implementation,\n",
    "    rerun=needs_rerun,\n",
    "    investigate=needs_investigation,\n",
    ")\n",
    "\n",
    "def classify_error(message: str):\n",
    "    for type_, check in checks.items():\n",
    "        if check(message):\n",
    "            return type_\n",
    "    return \"unknown\""
   ]
  },
  {
   "cell_type": "code",
   "execution_count": 396,
   "id": "064fdaa7-1e0a-4c5c-a062-031ce040021b",
   "metadata": {},
   "outputs": [],
   "source": [
    "with_errors[\"error_type\"] = with_errors[\"info\"].apply(classify_error)"
   ]
  },
  {
   "cell_type": "markdown",
   "id": "b151ef2d-fec4-4c2c-b6ab-f50fdc83dfc0",
   "metadata": {},
   "source": [
    "#### Expand the above check functions until no unknown errors are left below"
   ]
  },
  {
   "cell_type": "code",
   "execution_count": 399,
   "id": "de4000d2-5b5f-4f56-887d-ed614acc1b1b",
   "metadata": {},
   "outputs": [],
   "source": [
    "if n_errors:= len(with_errors[with_errors[\"error_type\"] == \"unknown\"][\"info\"].unique()):\n",
    "    print(n_errors)\n",
    "    print(with_errors[with_errors[\"error_type\"] == \"unknown\"].iloc[0])\n",
    "    print(with_errors[with_errors[\"error_type\"] == \"unknown\"].iloc[0][\"info\"])"
   ]
  },
  {
   "cell_type": "markdown",
   "id": "74058fe8-e8e1-4f35-8618-8d739719b957",
   "metadata": {},
   "source": [
    "## Visualizing Errors by Framework"
   ]
  },
  {
   "cell_type": "code",
   "execution_count": 403,
   "id": "9828ad95-ba5e-4ca4-9661-782da55ad4db",
   "metadata": {},
   "outputs": [
    {
     "name": "stdout",
     "output_type": "stream",
     "text": [
      "Help on package seaborn:\n",
      "\n",
      "NAME\n",
      "    seaborn - # Import seaborn objects\n",
      "\n",
      "PACKAGE CONTENTS\n",
      "    _compat\n",
      "    _core (package)\n",
      "    _decorators\n",
      "    _docstrings\n",
      "    _marks (package)\n",
      "    _oldcore\n",
      "    _statistics\n",
      "    _stats (package)\n",
      "    _testing\n",
      "    algorithms\n",
      "    axisgrid\n",
      "    categorical\n",
      "    cm\n",
      "    colors (package)\n",
      "    distributions\n",
      "    external (package)\n",
      "    matrix\n",
      "    miscplot\n",
      "    objects\n",
      "    palettes\n",
      "    rcmod\n",
      "    regression\n",
      "    relational\n",
      "    utils\n",
      "    widgets\n",
      "\n",
      "DATA\n",
      "    crayons = {'Almond': '#EFDECD', 'Antique Brass': '#CD9575', 'Apricot':...\n",
      "    xkcd_rgb = {'acid green': '#8ffe09', 'adobe': '#bd6c48', 'algae': '#54...\n",
      "\n",
      "VERSION\n",
      "    0.12.2\n",
      "\n",
      "FILE\n",
      "    /Users/pietergijsbers/repositories/amlb-results/venv39/lib/python3.9/site-packages/seaborn/__init__.py\n",
      "\n",
      "\n"
     ]
    }
   ],
   "source": [
    "help(sns)"
   ]
  },
  {
   "cell_type": "code",
   "execution_count": 401,
   "id": "d71d2a7f-865f-4b7c-bab2-52f40575e24b",
   "metadata": {},
   "outputs": [
    {
     "ename": "AttributeError",
     "evalue": "module 'seaborn' has no attribute 'scatter'",
     "output_type": "error",
     "traceback": [
      "\u001b[0;31m---------------------------------------------------------------------------\u001b[0m",
      "\u001b[0;31mAttributeError\u001b[0m                            Traceback (most recent call last)",
      "Cell \u001b[0;32mIn[401], line 1\u001b[0m\n\u001b[0;32m----> 1\u001b[0m \u001b[43msns\u001b[49m\u001b[38;5;241;43m.\u001b[39;49m\u001b[43mscatter\u001b[49m\n",
      "\u001b[0;31mAttributeError\u001b[0m: module 'seaborn' has no attribute 'scatter'"
     ]
    }
   ],
   "source": [
    "sns.scatterplot(\n",
    "    data=with_errors"
   ]
  },
  {
   "cell_type": "markdown",
   "id": "1588b31a-7704-439e-a82c-ad1edaed146b",
   "metadata": {},
   "source": [
    "## Visualizing Errors by Dataset Size"
   ]
  },
  {
   "cell_type": "code",
   "execution_count": null,
   "id": "deac6214-187c-446c-bd60-69f1974bf9e1",
   "metadata": {},
   "outputs": [],
   "source": []
  }
 ],
 "metadata": {
  "kernelspec": {
   "display_name": "Python 3 (ipykernel)",
   "language": "python",
   "name": "python3"
  },
  "language_info": {
   "codemirror_mode": {
    "name": "ipython",
    "version": 3
   },
   "file_extension": ".py",
   "mimetype": "text/x-python",
   "name": "python",
   "nbconvert_exporter": "python",
   "pygments_lexer": "ipython3",
   "version": "3.9.16"
  }
 },
 "nbformat": 4,
 "nbformat_minor": 5
}
